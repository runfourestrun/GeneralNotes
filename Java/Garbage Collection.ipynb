{
 "cells": [
  {
   "cell_type": "markdown",
   "id": "59a66c2f",
   "metadata": {},
   "source": [
    "## Tuning the Garbage collector\n",
    "\n",
    "\n",
    "* The heap is seperated into an old generation and a young gernation. New objects are allocated in the young generation and then later moved into the old generation, if they stay alive long enough.\n",
    "* When a generation fills up, the garbage collector performs a collection, during which all other threads in the process are paused. \n",
    "* The young generation is quick to collect since the pause time correlates witht he live set of objects. \n",
    "* old generation, garbage collection can correlate to heap size."
   ]
  }
 ],
 "metadata": {
  "kernelspec": {
   "display_name": "Python 3 (ipykernel)",
   "language": "python",
   "name": "python3"
  },
  "language_info": {
   "codemirror_mode": {
    "name": "ipython",
    "version": 3
   },
   "file_extension": ".py",
   "mimetype": "text/x-python",
   "name": "python",
   "nbconvert_exporter": "python",
   "pygments_lexer": "ipython3",
   "version": "3.9.7"
  }
 },
 "nbformat": 4,
 "nbformat_minor": 5
}
