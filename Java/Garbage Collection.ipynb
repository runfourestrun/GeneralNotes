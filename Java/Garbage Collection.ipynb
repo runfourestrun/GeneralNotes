{
 "cells": [
  {
   "cell_type": "markdown",
   "id": "59a66c2f",
   "metadata": {},
   "source": [
    "## Tuning the Garbage collector\n",
    "\n",
    "\n",
    "* The heap is seperated into an old generation and a young gernation. New objects are allocated in the young generation and then later moved into the old generation, if they stay alive long enough.\n",
    "* When a generation fills up, the garbage collector performs a collection, during which all other threads in the process are paused. \n",
    "* The young generation is quick to collect since the pause time correlates witht he live set of objects. \n",
    "* old generation, garbage collection can correlate to heap size.\n",
    "\n",
    "\n",
    "\n",
    "### Tuning Heap Size\n",
    "\n",
    "* Heap size can be configured directly in the conf file (dbms.memory.heap.max_size). \n",
    "* JVM will automatically grow the heap as needed, up to the maximum size. \n",
    "* Growing the heap requires a full garbage colletion cycle. It is recommended to set the initial heap size and the maximum heap size to the same value\n",
    "* If memory allocation to new generation is too small, objects may be moved to old generation too soon. This is called premature promotion.\n",
    "\n",
    "\n",
    "Use -Xmx to specify the maximum heap size\n",
    "Use -Xms to specify the initial Java heap size\n",
    "Use -Xss to set the Java thread stack size\n",
    "\n",
    "\n",
    "\n",
    "### How to gain good performance? \n",
    "\n",
    "\n",
    "* Make sure the JVM is not spending too much time performing garbage collection. The goal is to have a large enough heap to make sure that heavy/peak load will not result in so called GC-Trashing. Performance can drop as much as two orders of magnitude when GC-trashing happens. having too large heap also may hurt performance so you may have to try some different heap sizes. \n",
    "* Neo4j needs enough heap memory for the transaction state and query processing, plus some head-room for the garbage collector. As heap memory requirements are so workload-dependent, it is common to see heap memory configurations from 1 GB, up to 32 GB.\n"
   ]
  }
 ],
 "metadata": {
  "kernelspec": {
   "display_name": "Python 3 (ipykernel)",
   "language": "python",
   "name": "python3"
  },
  "language_info": {
   "codemirror_mode": {
    "name": "ipython",
    "version": 3
   },
   "file_extension": ".py",
   "mimetype": "text/x-python",
   "name": "python",
   "nbconvert_exporter": "python",
   "pygments_lexer": "ipython3",
   "version": "3.9.7"
  }
 },
 "nbformat": 4,
 "nbformat_minor": 5
}
