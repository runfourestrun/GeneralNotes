{
 "cells": [
  {
   "cell_type": "markdown",
   "id": "brazilian-papua",
   "metadata": {},
   "source": [
    "## Java Stack Heap\n",
    "\n",
    "\n",
    "### Intro\n",
    "\n",
    "* To run an application efficiently JVM divides memory into stack and heap memory. Whenever we declare new variables and objects, call a new method, declare a String, JVM designates memory to these operations from either Stack Memory or Heap Memory\n",
    "\n",
    "\n",
    "### Stack Memory in Java\n",
    "\n",
    "* Stack Memory in Java is used for static memory allocation and the execution of a thread. It contains primitive values that are specific to a method and references to objects that are in the heap\n",
    "\n",
    "### Key features of stack memory\n",
    "\n",
    "* It grows and shrinks as new methods are called and returned respectively\n",
    "* Variables inside stack exist only as long as the method that created them is running\n",
    "* It's automatically allocated and deallocated when method finishes execution\n",
    "* If this memory is full, Java throws Java.lan.StackOverflowError\n",
    "* Access the this memory is fast when compared to heap memory\n",
    "* This memory is threadsafe as each thread operates in its own stack\n",
    "\n",
    "\n",
    "### Heap Space in Java\n",
    "\n",
    "* Heap space in Java is used for dynamic memory allocation for Java objects and JRE classes at the runtime. New objects are always created in heap space and references to this objects are stored in stack memory. These objects have global access and can be accessed from anywhere in the application. This memory model gets broken down into smaller parts called generations, these are:\n",
    "\n",
    "1. Young Generation - this is where all new objects are allocated and aged. a minor GC occurs when this fills up.\n",
    "2. Old or Tenured Generation - this is where long surviving objects are stored. When objecs are stored in the Young Generation, a threshold for the objects age is set and when that threshold is reached the object is moved to the old generation. \n",
    "3. Permanaent Generation - this consists of JVM metadata for runtime classes and application methods\n",
    "\n",
    "\n",
    "\n",
    "\n",
    "### Key features of heap memory \n",
    "\n",
    "\n",
    "* It's accessed via complex memory management techniques that include Young Generation, Old or Tenured Generation, and Permanent Generation\n",
    "* If heap space is full, Java throws java.lang.OutOfMemoryError\n",
    "* Access to this memory is relatively slower than stack memory\n",
    "* This memory, in contrast to stack, isn't automatically deallocated. It needs Garbage Collector to free up unused objects so as to keep the efficiency of the memory usage\n",
    "* Unlike stack, a heap isn't threadsafe and needs to be guarded by properly synchronizing the code"
   ]
  }
 ],
 "metadata": {
  "kernelspec": {
   "display_name": "Python 3 (ipykernel)",
   "language": "python",
   "name": "python3"
  },
  "language_info": {
   "codemirror_mode": {
    "name": "ipython",
    "version": 3
   },
   "file_extension": ".py",
   "mimetype": "text/x-python",
   "name": "python",
   "nbconvert_exporter": "python",
   "pygments_lexer": "ipython3",
   "version": "3.9.7"
  }
 },
 "nbformat": 4,
 "nbformat_minor": 5
}
