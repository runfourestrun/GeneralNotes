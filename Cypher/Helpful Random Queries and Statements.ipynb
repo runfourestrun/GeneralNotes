{
 "cells": [
  {
   "cell_type": "markdown",
   "id": "9a552c4c",
   "metadata": {},
   "source": [
    "### Helpful Cypher Statements/Queries"
   ]
  },
  {
   "cell_type": "markdown",
   "id": "e685373d",
   "metadata": {},
   "source": [
    "### Count Stored procedures and group by library\n",
    "```\n",
    "\n",
    "CALL dbms.procedures() YIELD name\n",
    "RETURN head(split(name,\".\")) as package, count(*), collect(name) as procedures;\n",
    "\n",
    "```"
   ]
  },
  {
   "cell_type": "code",
   "execution_count": null,
   "id": "2e0f359b",
   "metadata": {},
   "outputs": [],
   "source": []
  }
 ],
 "metadata": {},
 "nbformat": 4,
 "nbformat_minor": 5
}
