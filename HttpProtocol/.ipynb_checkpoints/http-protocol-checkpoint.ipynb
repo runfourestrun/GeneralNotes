{
 "cells": [
  {
   "cell_type": "markdown",
   "id": "informative-bermuda",
   "metadata": {},
   "source": [
    "### HTTP Overview\n",
    "* Http is a protocol which allows the fetching of resources such as HTML documents. \n",
    "* Foundation of data exchange on the web\n",
    "* Follows a client-server protocol (requests are instantiating by the recipient).. usually a web browser\n",
    "* Complete document is reconstructed from the different sub documents fetched\n",
    "\n",
    "\n",
    "\n",
    "\n"
   ]
  },
  {
   "cell_type": "code",
   "execution_count": 1,
   "id": "stable-portrait",
   "metadata": {},
   "outputs": [
    {
     "ename": "KeyError",
     "evalue": "'merge_sort_jpeg'",
     "output_type": "error",
     "traceback": [
      "\u001b[1;31m---------------------------------------------------------------------------\u001b[0m",
      "\u001b[1;31mKeyError\u001b[0m                                  Traceback (most recent call last)",
      "\u001b[1;32m<ipython-input-1-32f9f865314d>\u001b[0m in \u001b[0;36m<module>\u001b[1;34m\u001b[0m\n\u001b[0;32m      4\u001b[0m \u001b[0mcfg\u001b[0m \u001b[1;33m=\u001b[0m \u001b[0myaml\u001b[0m\u001b[1;33m.\u001b[0m\u001b[0mload\u001b[0m\u001b[1;33m(\u001b[0m\u001b[0mopen\u001b[0m\u001b[1;33m(\u001b[0m\u001b[1;34m\"./config.yaml\"\u001b[0m\u001b[1;33m)\u001b[0m\u001b[1;33m,\u001b[0m \u001b[0mLoader\u001b[0m\u001b[1;33m=\u001b[0m\u001b[0myaml\u001b[0m\u001b[1;33m.\u001b[0m\u001b[0mFullLoader\u001b[0m\u001b[1;33m)\u001b[0m\u001b[1;33m\u001b[0m\u001b[1;33m\u001b[0m\u001b[0m\n\u001b[0;32m      5\u001b[0m \u001b[1;33m\u001b[0m\u001b[0m\n\u001b[1;32m----> 6\u001b[1;33m \u001b[0mmerge_sort_img\u001b[0m \u001b[1;33m=\u001b[0m \u001b[0mcfg\u001b[0m\u001b[1;33m[\u001b[0m\u001b[1;34m'merge_sort_jpeg'\u001b[0m\u001b[1;33m]\u001b[0m\u001b[1;33m\u001b[0m\u001b[1;33m\u001b[0m\u001b[0m\n\u001b[0m\u001b[0;32m      7\u001b[0m \u001b[1;33m\u001b[0m\u001b[0m\n\u001b[0;32m      8\u001b[0m \u001b[0mimage_list\u001b[0m \u001b[1;33m=\u001b[0m \u001b[1;33m[\u001b[0m\u001b[0mmerge_sort_img\u001b[0m\u001b[1;33m]\u001b[0m\u001b[1;33m\u001b[0m\u001b[1;33m\u001b[0m\u001b[0m\n",
      "\u001b[1;31mKeyError\u001b[0m: 'merge_sort_jpeg'"
     ]
    }
   ],
   "source": [
    "import yaml\n",
    "from IPython.display import Image, display\n",
    "\n",
    "cfg = yaml.load(open(\"./config.yaml\"), Loader=yaml.FullLoader)\n",
    "\n",
    "merge_sort_img = cfg['merge_sort_jpeg']\n",
    "\n",
    "image_list = [merge_sort_img]\n",
    "for image in image_list:\n",
    "    display(Image(filename=image))"
   ]
  },
  {
   "cell_type": "code",
   "execution_count": null,
   "id": "static-deposit",
   "metadata": {},
   "outputs": [],
   "source": []
  }
 ],
 "metadata": {
  "kernelspec": {
   "display_name": "Python 3",
   "language": "python",
   "name": "python3"
  },
  "language_info": {
   "codemirror_mode": {
    "name": "ipython",
    "version": 3
   },
   "file_extension": ".py",
   "mimetype": "text/x-python",
   "name": "python",
   "nbconvert_exporter": "python",
   "pygments_lexer": "ipython3",
   "version": "3.8.0"
  }
 },
 "nbformat": 4,
 "nbformat_minor": 5
}
