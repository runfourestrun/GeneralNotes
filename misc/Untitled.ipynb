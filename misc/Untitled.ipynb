{
 "cells": [
  {
   "cell_type": "markdown",
   "id": "eee13f24",
   "metadata": {},
   "source": [
    "# Dave Questions\n",
    "------\n"
   ]
  },
  {
   "cell_type": "markdown",
   "id": "c9a56a08",
   "metadata": {},
   "source": [
    "## Cypher Questions\n",
    "------\n",
    "\n",
    "\n",
    "\n",
    "### Question 1: \n",
    "------\n",
    "\n",
    "\n",
    "\n",
    "* Can you explain using Path patterns as predicates in WHERE clauses (also in existential subqueries... basically any other clauses where a path could be used). \n",
    "\n",
    "\n",
    "```\n",
    "\n",
    "// QUERY 1:\n",
    "MATCH (a:Character) - [:INTERACTS] -> (b:Character) return a,b\n",
    "\n",
    "// Distinct 'rows' 352;\n",
    "// Count query \n",
    "MATCH p= (a:Character) - [:INTERACTS] -> (b:Character) WITH  count(p) as counting_p RETURN counting_p\n",
    "\n",
    "\n",
    "\n",
    "//QUERY 2: \n",
    "MATCH (p1:Character),(p2:Character) WHERE (p1) - [:INTERACTS] -> (p2) RETURN p1,p2 \n",
    "\n",
    "\n",
    "\n",
    "// Distinct 'rows' 352\n",
    "// Count query\n",
    "MATCH (p1:Character),(p2:Character) WHERE (p1) - [:INTERACTS] -> (p2) WITH  (p1) - [:INTERACTS] -> (p2)  as p1 WITH count(p1) as path_count RETURN path_count\n",
    "\n",
    "\n",
    "\n",
    "\n",
    "```\n",
    "\n",
    "* Is Filtering on patterns with properties or filtering on patterns in general more efficient from a time complexity standpoint \n",
    "\n"
   ]
  },
  {
   "cell_type": "markdown",
   "id": "f34acb55",
   "metadata": {},
   "source": [
    "## Storage / Processing\n",
    "------\n",
    "\n",
    "\n",
    "### Question 1:\n",
    "------\n",
    "\n",
    "\n",
    "* Can you explain how a global index works vs index free adjacency. I understand index free adjacency basically means there is a physical pointer in each record to associated other records via either a linkedlist/doubly linked list. Global index that other graph databases use means that they have to do a brute force scan of everything or have some sort of external index? \n"
   ]
  },
  {
   "cell_type": "markdown",
   "id": "7c4d2246",
   "metadata": {},
   "source": [
    "## APIS:\n",
    "------\n",
    "\n",
    "### Question 1:\n",
    "------\n",
    "\n",
    "\n",
    "* A typical use case for transaction event handlers is to prevent physical deletion of records. A handler can be set up to intercept deletion of a node and instead simply mark that node as logically deleted (or in a more sophisticated manner, move the node “back in time” by creating timestamped archive relationships). I’m having a hard time visualizing how this is implemented \n"
   ]
  },
  {
   "cell_type": "markdown",
   "id": "87999dda",
   "metadata": {},
   "source": [
    "## On Graph capacity:\n",
    "------\n",
    "\n",
    "* What are the current upper bounds on the graph? I read that a single graph can have billions of nodes, relationships and properties. Is this still the case? \n",
    "* What size graphs do you generally see? I read that it’s normal to see things as small as a few thousand nodes + 100k~ relationships to nodes in the billions. Do some midmarket companies have enormous graphs or is it pretty partitioned by company size == size of graph?\n",
    "* How many properties are best stored per node? "
   ]
  },
  {
   "cell_type": "markdown",
   "id": "09b01503",
   "metadata": {},
   "source": [
    "### On throughput\n",
    "------\n",
    "\n",
    "* So obviously you can deploy neo4j in cluster mode if I/O is exhausted to help with read throughput/availability. Something interesting I was read is if clustering is still not sufficient you can build sharding logic into the application layer. Basically you create some sort of synthetic identifier to join records across database instances at the application level. \n",
    "\n",
    "\n",
    "### Questions: \n",
    "------\n",
    "* Is this common for graph applications to do\n",
    "* How is this implemented? Is it persisted in the storage layer (like is the identifier stored as a property for the relationship/node)\n",
    "* What is a good example of this architecture pattern (many small graphs joined by an artificial identifier) "
   ]
  },
  {
   "cell_type": "markdown",
   "id": "301b0a67",
   "metadata": {},
   "source": [
    "## On Onboarding Guide:\n",
    "------\n",
    "\n",
    "* What are file open descriptors? \n",
    "* Can you explain what paging is? \n",
    "* Why would setting the heap_initial_size & heap_max_size to different values cause unwanted garbage collection pauses?"
   ]
  },
  {
   "cell_type": "code",
   "execution_count": null,
   "id": "7d945c57",
   "metadata": {},
   "outputs": [],
   "source": []
  }
 ],
 "metadata": {
  "kernelspec": {
   "display_name": "Python 3 (ipykernel)",
   "language": "python",
   "name": "python3"
  },
  "language_info": {
   "codemirror_mode": {
    "name": "ipython",
    "version": 3
   },
   "file_extension": ".py",
   "mimetype": "text/x-python",
   "name": "python",
   "nbconvert_exporter": "python",
   "pygments_lexer": "ipython3",
   "version": "3.9.7"
  }
 },
 "nbformat": 4,
 "nbformat_minor": 5
}
